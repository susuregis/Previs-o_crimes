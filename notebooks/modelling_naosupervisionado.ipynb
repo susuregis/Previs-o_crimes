{
 "cells": [
  {
   "cell_type": "markdown",
   "id": "f4f5f920",
   "metadata": {},
   "source": [
<<<<<<< HEAD
    "Esse notbook tem o intuito de treinar os dados de forma nao supervisionada, criando custering para identificar padroes em bairros do crime de trafico de drogas e alertar quais estao crescendo ou nao."
=======
    "Este notebook tem como objetivo realizar o treinamento dos dados por meio de técnicas de aprendizado não supervisionado, aplicando clusterização para identificar padrões relacionados ao crime de tráfico de drogas em diferentes bairros. Além disso, busca-se detectar quais bairros apresentam crescimento dessas ocorrências, possibilitando alertas mais precisos para ações preventivas"
>>>>>>> master
   ]
  },
  {
   "cell_type": "markdown",
   "id": "a72fcbb6",
   "metadata": {},
   "source": [
    "Importando bibliotecas."
   ]
  },
  {
   "cell_type": "code",
<<<<<<< HEAD
   "execution_count": null,
=======
   "execution_count": 4,
>>>>>>> master
   "id": "34f679f8",
   "metadata": {},
   "outputs": [],
   "source": [
    "import pandas as pd\n",
    "import numpy as np\n",
    "import matplotlib.pyplot as plt\n",
    "import seaborn as sns\n",
    "from sklearn.preprocessing import StandardScaler, OneHotEncoder\n",
    "from sklearn.compose import ColumnTransformer\n",
    "from sklearn.cluster import KMeans\n",
    "from sklearn.metrics import silhouette_score, calinski_harabasz_score, davies_bouldin_score"
   ]
  },
  {
   "cell_type": "markdown",
   "id": "1e2fdc88",
   "metadata": {},
   "source": [
    "Lendo o arquivo"
   ]
  },
  {
   "cell_type": "code",
<<<<<<< HEAD
   "execution_count": null,
   "id": "5736cd50",
   "metadata": {},
   "outputs": [],
   "source": [
    "df = pd.read_csv(\"C:/Users/55819/Downloads/Crime_prediction/data/processed/dados_processados.csv\")\n",
=======
   "execution_count": 5,
   "id": "5736cd50",
   "metadata": {},
   "outputs": [
    {
     "data": {
      "text/html": [
       "<div>\n",
       "<style scoped>\n",
       "    .dataframe tbody tr th:only-of-type {\n",
       "        vertical-align: middle;\n",
       "    }\n",
       "\n",
       "    .dataframe tbody tr th {\n",
       "        vertical-align: top;\n",
       "    }\n",
       "\n",
       "    .dataframe thead th {\n",
       "        text-align: right;\n",
       "    }\n",
       "</style>\n",
       "<table border=\"1\" class=\"dataframe\">\n",
       "  <thead>\n",
       "    <tr style=\"text-align: right;\">\n",
       "      <th></th>\n",
       "      <th>data_ocorrencia</th>\n",
       "      <th>bairro</th>\n",
       "      <th>tipo_crime</th>\n",
       "      <th>descricao_modus_operandi</th>\n",
       "      <th>arma_utilizada</th>\n",
       "      <th>quantidade_vitimas</th>\n",
       "      <th>quantidade_suspeitos</th>\n",
       "      <th>sexo_suspeito</th>\n",
       "      <th>idade_suspeito</th>\n",
       "      <th>orgao_responsavel</th>\n",
       "      <th>ano</th>\n",
       "      <th>mes</th>\n",
       "      <th>dia</th>\n",
       "      <th>hora</th>\n",
       "      <th>minuto</th>\n",
       "      <th>segundo</th>\n",
       "      <th>dia_semana_num</th>\n",
       "      <th>dia_semana_nome</th>\n",
       "      <th>estacao</th>\n",
       "    </tr>\n",
       "  </thead>\n",
       "  <tbody>\n",
       "    <tr>\n",
       "      <th>0</th>\n",
       "      <td>2024-08-02 19:48:16.958668</td>\n",
       "      <td>Imbiribeira</td>\n",
       "      <td>Sequestro</td>\n",
       "      <td>Golpe Telefônico</td>\n",
       "      <td>Faca</td>\n",
       "      <td>2</td>\n",
       "      <td>0</td>\n",
       "      <td>Não Informado</td>\n",
       "      <td>53</td>\n",
       "      <td>Delegacia Casa Forte</td>\n",
       "      <td>2024</td>\n",
       "      <td>8</td>\n",
       "      <td>2</td>\n",
       "      <td>19</td>\n",
       "      <td>48</td>\n",
       "      <td>16</td>\n",
       "      <td>4</td>\n",
       "      <td>Friday</td>\n",
       "      <td>Inverno</td>\n",
       "    </tr>\n",
       "    <tr>\n",
       "      <th>1</th>\n",
       "      <td>2022-10-29 19:48:16.958694</td>\n",
       "      <td>Boa Viagem</td>\n",
       "      <td>Homicídio</td>\n",
       "      <td>Fraude Online</td>\n",
       "      <td>Objeto Contundente</td>\n",
       "      <td>4</td>\n",
       "      <td>1</td>\n",
       "      <td>Não Informado</td>\n",
       "      <td>29</td>\n",
       "      <td>Delegacia Casa Forte</td>\n",
       "      <td>2022</td>\n",
       "      <td>10</td>\n",
       "      <td>29</td>\n",
       "      <td>19</td>\n",
       "      <td>48</td>\n",
       "      <td>16</td>\n",
       "      <td>5</td>\n",
       "      <td>Saturday</td>\n",
       "      <td>Primavera</td>\n",
       "    </tr>\n",
       "    <tr>\n",
       "      <th>2</th>\n",
       "      <td>2023-03-12 19:48:16.958698</td>\n",
       "      <td>Santo Amaro</td>\n",
       "      <td>Furto</td>\n",
       "      <td>Invasão Residencial</td>\n",
       "      <td>Nenhum</td>\n",
       "      <td>1</td>\n",
       "      <td>4</td>\n",
       "      <td>Feminino</td>\n",
       "      <td>65</td>\n",
       "      <td>Delegacia Casa Forte</td>\n",
       "      <td>2023</td>\n",
       "      <td>3</td>\n",
       "      <td>12</td>\n",
       "      <td>19</td>\n",
       "      <td>48</td>\n",
       "      <td>16</td>\n",
       "      <td>6</td>\n",
       "      <td>Sunday</td>\n",
       "      <td>Outono</td>\n",
       "    </tr>\n",
       "    <tr>\n",
       "      <th>3</th>\n",
       "      <td>2025-04-18 19:48:16.958700</td>\n",
       "      <td>Afogados</td>\n",
       "      <td>Roubo</td>\n",
       "      <td>Arrombamento</td>\n",
       "      <td>Nenhum</td>\n",
       "      <td>1</td>\n",
       "      <td>4</td>\n",
       "      <td>Não Informado</td>\n",
       "      <td>30</td>\n",
       "      <td>Delegacia Torre</td>\n",
       "      <td>2025</td>\n",
       "      <td>4</td>\n",
       "      <td>18</td>\n",
       "      <td>19</td>\n",
       "      <td>48</td>\n",
       "      <td>16</td>\n",
       "      <td>4</td>\n",
       "      <td>Friday</td>\n",
       "      <td>Outono</td>\n",
       "    </tr>\n",
       "    <tr>\n",
       "      <th>4</th>\n",
       "      <td>2025-06-30 19:48:16.958702</td>\n",
       "      <td>Tamarineira</td>\n",
       "      <td>Roubo</td>\n",
       "      <td>Estupro Coletivo</td>\n",
       "      <td>Arma de Fogo</td>\n",
       "      <td>3</td>\n",
       "      <td>3</td>\n",
       "      <td>Masculino</td>\n",
       "      <td>20</td>\n",
       "      <td>Delegacia Casa Forte</td>\n",
       "      <td>2025</td>\n",
       "      <td>6</td>\n",
       "      <td>30</td>\n",
       "      <td>19</td>\n",
       "      <td>48</td>\n",
       "      <td>16</td>\n",
       "      <td>0</td>\n",
       "      <td>Monday</td>\n",
       "      <td>Inverno</td>\n",
       "    </tr>\n",
       "    <tr>\n",
       "      <th>5</th>\n",
       "      <td>2024-04-19 19:48:16.958705</td>\n",
       "      <td>Torre</td>\n",
       "      <td>Ameaça</td>\n",
       "      <td>Estupro Coletivo</td>\n",
       "      <td>Nenhum</td>\n",
       "      <td>0</td>\n",
       "      <td>1</td>\n",
       "      <td>Não Informado</td>\n",
       "      <td>32</td>\n",
       "      <td>Delegacia Pina</td>\n",
       "      <td>2024</td>\n",
       "      <td>4</td>\n",
       "      <td>19</td>\n",
       "      <td>19</td>\n",
       "      <td>48</td>\n",
       "      <td>16</td>\n",
       "      <td>4</td>\n",
       "      <td>Friday</td>\n",
       "      <td>Outono</td>\n",
       "    </tr>\n",
       "    <tr>\n",
       "      <th>6</th>\n",
       "      <td>2022-11-28 19:48:16.958708</td>\n",
       "      <td>Tamarineira</td>\n",
       "      <td>Homicídio</td>\n",
       "      <td>Estelionato Bancário</td>\n",
       "      <td>Explosivos</td>\n",
       "      <td>0</td>\n",
       "      <td>4</td>\n",
       "      <td>Feminino</td>\n",
       "      <td>28</td>\n",
       "      <td>Delegacia Boa Viagem</td>\n",
       "      <td>2022</td>\n",
       "      <td>11</td>\n",
       "      <td>28</td>\n",
       "      <td>19</td>\n",
       "      <td>48</td>\n",
       "      <td>16</td>\n",
       "      <td>0</td>\n",
       "      <td>Monday</td>\n",
       "      <td>Primavera</td>\n",
       "    </tr>\n",
       "    <tr>\n",
       "      <th>7</th>\n",
       "      <td>2024-11-10 19:48:16.958710</td>\n",
       "      <td>Boa Viagem</td>\n",
       "      <td>Sequestro</td>\n",
       "      <td>Estelionato Bancário</td>\n",
       "      <td>Explosivos</td>\n",
       "      <td>1</td>\n",
       "      <td>2</td>\n",
       "      <td>Não Informado</td>\n",
       "      <td>24</td>\n",
       "      <td>Delegacia Pina</td>\n",
       "      <td>2024</td>\n",
       "      <td>11</td>\n",
       "      <td>10</td>\n",
       "      <td>19</td>\n",
       "      <td>48</td>\n",
       "      <td>16</td>\n",
       "      <td>6</td>\n",
       "      <td>Sunday</td>\n",
       "      <td>Primavera</td>\n",
       "    </tr>\n",
       "    <tr>\n",
       "      <th>8</th>\n",
       "      <td>2025-01-13 19:48:16.958717</td>\n",
       "      <td>Tamarineira</td>\n",
       "      <td>Latrocínio</td>\n",
       "      <td>Golpe Telefônico</td>\n",
       "      <td>Faca</td>\n",
       "      <td>3</td>\n",
       "      <td>2</td>\n",
       "      <td>Não Informado</td>\n",
       "      <td>14</td>\n",
       "      <td>Delegacia Afogados</td>\n",
       "      <td>2025</td>\n",
       "      <td>1</td>\n",
       "      <td>13</td>\n",
       "      <td>19</td>\n",
       "      <td>48</td>\n",
       "      <td>16</td>\n",
       "      <td>0</td>\n",
       "      <td>Monday</td>\n",
       "      <td>Verão</td>\n",
       "    </tr>\n",
       "    <tr>\n",
       "      <th>9</th>\n",
       "      <td>2025-01-25 19:48:16.958720</td>\n",
       "      <td>Torre</td>\n",
       "      <td>Tráfico de Drogas</td>\n",
       "      <td>Emboscada</td>\n",
       "      <td>Explosivos</td>\n",
       "      <td>3</td>\n",
       "      <td>3</td>\n",
       "      <td>Feminino</td>\n",
       "      <td>23</td>\n",
       "      <td>Delegacia Boa Viagem</td>\n",
       "      <td>2025</td>\n",
       "      <td>1</td>\n",
       "      <td>25</td>\n",
       "      <td>19</td>\n",
       "      <td>48</td>\n",
       "      <td>16</td>\n",
       "      <td>5</td>\n",
       "      <td>Saturday</td>\n",
       "      <td>Verão</td>\n",
       "    </tr>\n",
       "  </tbody>\n",
       "</table>\n",
       "</div>"
      ],
      "text/plain": [
       "              data_ocorrencia       bairro         tipo_crime  \\\n",
       "0  2024-08-02 19:48:16.958668  Imbiribeira          Sequestro   \n",
       "1  2022-10-29 19:48:16.958694   Boa Viagem          Homicídio   \n",
       "2  2023-03-12 19:48:16.958698  Santo Amaro              Furto   \n",
       "3  2025-04-18 19:48:16.958700     Afogados              Roubo   \n",
       "4  2025-06-30 19:48:16.958702  Tamarineira              Roubo   \n",
       "5  2024-04-19 19:48:16.958705        Torre             Ameaça   \n",
       "6  2022-11-28 19:48:16.958708  Tamarineira          Homicídio   \n",
       "7  2024-11-10 19:48:16.958710   Boa Viagem          Sequestro   \n",
       "8  2025-01-13 19:48:16.958717  Tamarineira         Latrocínio   \n",
       "9  2025-01-25 19:48:16.958720        Torre  Tráfico de Drogas   \n",
       "\n",
       "  descricao_modus_operandi      arma_utilizada  quantidade_vitimas  \\\n",
       "0         Golpe Telefônico                Faca                   2   \n",
       "1            Fraude Online  Objeto Contundente                   4   \n",
       "2      Invasão Residencial              Nenhum                   1   \n",
       "3             Arrombamento              Nenhum                   1   \n",
       "4         Estupro Coletivo        Arma de Fogo                   3   \n",
       "5         Estupro Coletivo              Nenhum                   0   \n",
       "6     Estelionato Bancário          Explosivos                   0   \n",
       "7     Estelionato Bancário          Explosivos                   1   \n",
       "8         Golpe Telefônico                Faca                   3   \n",
       "9                Emboscada          Explosivos                   3   \n",
       "\n",
       "   quantidade_suspeitos  sexo_suspeito  idade_suspeito     orgao_responsavel  \\\n",
       "0                     0  Não Informado              53  Delegacia Casa Forte   \n",
       "1                     1  Não Informado              29  Delegacia Casa Forte   \n",
       "2                     4       Feminino              65  Delegacia Casa Forte   \n",
       "3                     4  Não Informado              30       Delegacia Torre   \n",
       "4                     3      Masculino              20  Delegacia Casa Forte   \n",
       "5                     1  Não Informado              32        Delegacia Pina   \n",
       "6                     4       Feminino              28  Delegacia Boa Viagem   \n",
       "7                     2  Não Informado              24        Delegacia Pina   \n",
       "8                     2  Não Informado              14    Delegacia Afogados   \n",
       "9                     3       Feminino              23  Delegacia Boa Viagem   \n",
       "\n",
       "    ano  mes  dia  hora  minuto  segundo  dia_semana_num dia_semana_nome  \\\n",
       "0  2024    8    2    19      48       16               4          Friday   \n",
       "1  2022   10   29    19      48       16               5        Saturday   \n",
       "2  2023    3   12    19      48       16               6          Sunday   \n",
       "3  2025    4   18    19      48       16               4          Friday   \n",
       "4  2025    6   30    19      48       16               0          Monday   \n",
       "5  2024    4   19    19      48       16               4          Friday   \n",
       "6  2022   11   28    19      48       16               0          Monday   \n",
       "7  2024   11   10    19      48       16               6          Sunday   \n",
       "8  2025    1   13    19      48       16               0          Monday   \n",
       "9  2025    1   25    19      48       16               5        Saturday   \n",
       "\n",
       "     estacao  \n",
       "0    Inverno  \n",
       "1  Primavera  \n",
       "2     Outono  \n",
       "3     Outono  \n",
       "4    Inverno  \n",
       "5     Outono  \n",
       "6  Primavera  \n",
       "7  Primavera  \n",
       "8      Verão  \n",
       "9      Verão  "
      ]
     },
     "execution_count": 5,
     "metadata": {},
     "output_type": "execute_result"
    }
   ],
   "source": [
    "df = pd.read_csv(\"C:/Users/55819/Downloads/Previs-o_crimes-main (1)/Previs-o_crimes-main/data/processed/dados_processados.csv\")\n",
>>>>>>> master
    "df.head(10)"
   ]
  },
  {
<<<<<<< HEAD
   "cell_type": "code",
   "execution_count": null,
=======
   "cell_type": "markdown",
   "id": "7d97b6fc",
   "metadata": {},
   "source": [
    "1 - filtrar um DataFrame para criar um novo DataFrame chamado df_trafico contendo apenas as linhas onde a coluna tipo_crime contém a palavra \"tráfico\""
   ]
  },
  {
   "cell_type": "code",
   "execution_count": 6,
>>>>>>> master
   "id": "c28e516e",
   "metadata": {},
   "outputs": [],
   "source": [
    "df_trafico = df[df['tipo_crime'].str.contains('tráfico', case=False, na=False)].copy()"
   ]
  },
  {
<<<<<<< HEAD
   "cell_type": "code",
   "execution_count": null,
=======
   "cell_type": "markdown",
   "id": "45709fb9",
   "metadata": {},
   "source": [
    "2 - criar uma nova coluna tem_arma no DataFrame df_trafico, que indica com 1 se há alguma informação sobre a arma utilizada (diferente de 'não informado'), e com 0 se a informação não foi fornecida."
   ]
  },
  {
   "cell_type": "code",
   "execution_count": 7,
>>>>>>> master
   "id": "2c00f573",
   "metadata": {},
   "outputs": [],
   "source": [
    "df_trafico['tem_arma'] = np.where(df_trafico['arma_utilizada'].str.lower() != 'não informado', 1, 0)\n"
   ]
  },
  {
<<<<<<< HEAD
   "cell_type": "code",
   "execution_count": null,
=======
   "cell_type": "markdown",
   "id": "19f30bf1",
   "metadata": {},
   "source": [
    "3 - agrupar os dados de crimes de tráfico por bairro e calcula médias de variáveis como:\n",
    "\n",
    "número de suspeitos,\n",
    "\n",
    "número de vítimas,\n",
    "\n",
    "idade dos suspeitos,\n",
    "\n",
    "percentual de ocorrências com arma (proporção),\n",
    "\n",
    "e horário médio dos crimes.\n",
    "\n",
    "Depois, ele renomeia as colunas para nomes mais claros."
   ]
  },
  {
   "cell_type": "code",
   "execution_count": 8,
>>>>>>> master
   "id": "01ae711a",
   "metadata": {},
   "outputs": [],
   "source": [
    "df_bairros = df_trafico.groupby('bairro').agg({\n",
    "    'quantidade_suspeitos': 'mean',\n",
    "    'quantidade_vitimas': 'mean',\n",
    "    'tem_arma': 'mean',  # percentual de ocorrências com arma\n",
    "    'idade_suspeito': 'mean',\n",
    "    'hora': 'mean'       # horário médio das ocorrências\n",
    "}).reset_index()\n",
    "\n",
    "# Renomear colunas\n",
    "df_bairros.rename(columns={\n",
    "    'quantidade_suspeitos': 'media_suspeitos',\n",
    "    'quantidade_vitimas': 'media_vitimas',\n",
    "    'tem_arma': 'percentual_com_arma',\n",
    "    'idade_suspeito': 'media_idade_suspeitos',\n",
    "    'hora': 'media_hora'\n",
    "}, inplace=True)"
   ]
  },
  {
<<<<<<< HEAD
   "cell_type": "code",
   "execution_count": null,
=======
   "cell_type": "markdown",
   "id": "cb405c73",
   "metadata": {},
   "source": [
    "4 - realizar tratamento de dados ausentes (NaN) e prepara os dados para padronização (normalização)"
   ]
  },
  {
   "cell_type": "code",
   "execution_count": 11,
>>>>>>> master
   "id": "196a0584",
   "metadata": {},
   "outputs": [],
   "source": [
    "df_bairros.fillna(df_bairros.mean(numeric_only=True), inplace=True)\n",
    "\n",
    "scaler = StandardScaler()\n",
    "X = scaler.fit_transform(df_bairros.drop(columns='bairro'))"
   ]
  },
  {
<<<<<<< HEAD
   "cell_type": "code",
   "execution_count": null,
   "id": "713b83a0",
   "metadata": {},
   "outputs": [],
=======
   "cell_type": "markdown",
   "id": "b5f4012b",
   "metadata": {},
   "source": [
    "No código abaixo vou realizar clusterização usando o algoritmo KMeans com 4 clusters, atribuindo os clusters ao DataFrame df_bairros, e em seguida avalia a qualidade da clusterização usando três métricas de avaliação não supervisionadas: Silhouette Score, Davies-Bouldin Index e Calinski-Harabasz Index."
   ]
  },
  {
   "cell_type": "code",
   "execution_count": 13,
   "id": "713b83a0",
   "metadata": {},
   "outputs": [
    {
     "name": "stdout",
     "output_type": "stream",
     "text": [
      "Silhouette Score: 0.397\n",
      "Davies-Bouldin Index: 0.567\n",
      "Calinski-Harabasz Index: 7.084\n"
     ]
    }
   ],
>>>>>>> master
   "source": [
    "kmeans = KMeans(n_clusters=4, random_state=42)\n",
    "df_bairros['cluster'] = kmeans.fit_predict(X)\n",
    "\n",
<<<<<<< HEAD
    "\n",
    "silhouette = silhouette_score(X_scaled, df_bairros['cluster'])\n",
    "davies_bouldin = davies_bouldin_score(X_scaled, df_bairros['cluster'])\n",
    "calinski = calinski_harabasz_score(X_scaled, df_bairros['cluster'])\n",
=======
    "# Calcular métricas de avaliação usando X (que já está padronizado)\n",
    "silhouette = silhouette_score(X, df_bairros['cluster'])\n",
    "davies_bouldin = davies_bouldin_score(X, df_bairros['cluster'])\n",
    "calinski = calinski_harabasz_score(X, df_bairros['cluster'])\n",
>>>>>>> master
    "\n",
    "print(f\"Silhouette Score: {silhouette:.3f}\")\n",
    "print(f\"Davies-Bouldin Index: {davies_bouldin:.3f}\")\n",
    "print(f\"Calinski-Harabasz Index: {calinski:.3f}\")"
   ]
  },
  {
<<<<<<< HEAD
   "cell_type": "code",
   "execution_count": null,
   "id": "8c69ad9a",
   "metadata": {},
   "outputs": [],
=======
   "cell_type": "markdown",
   "id": "2c39f83a",
   "metadata": {},
   "source": [
    "5 - calcular e exiber a média dos dados numéricos para cada cluster criados, agrupando os bairros de acordo com o cluster ao qual pertencem."
   ]
  },
  {
   "cell_type": "code",
   "execution_count": 14,
   "id": "8c69ad9a",
   "metadata": {},
   "outputs": [
    {
     "name": "stdout",
     "output_type": "stream",
     "text": [
      "MÉDIAS DOS CLUSTERS:\n",
      "         media_suspeitos  media_vitimas  percentual_com_arma  \\\n",
      "cluster                                                        \n",
      "0                   1.78           1.61                  1.0   \n",
      "1                   1.78           2.06                  1.0   \n",
      "2                   2.22           2.14                  1.0   \n",
      "3                   2.13           1.81                  1.0   \n",
      "\n",
      "         media_idade_suspeitos  media_hora  \n",
      "cluster                                     \n",
      "0                        41.17        19.0  \n",
      "1                        43.05        19.0  \n",
      "2                        42.05        19.0  \n",
      "3                        39.53        19.0  \n"
     ]
    }
   ],
>>>>>>> master
   "source": [
    "cluster_summary = df_bairros.groupby('cluster').mean(numeric_only=True).round(2)\n",
    "print(\"MÉDIAS DOS CLUSTERS:\")\n",
    "print(cluster_summary)"
   ]
  },
  {
<<<<<<< HEAD
   "cell_type": "code",
   "execution_count": null,
   "id": "304403bb",
   "metadata": {},
   "outputs": [],
=======
   "cell_type": "markdown",
   "id": "2e754d0d",
   "metadata": {},
   "source": [
    "6 - Gerar um resumo descritivo e interpretativo automático para cada cluster, baseado nas médias calculadas das variáveis de interesse em cada grupo de bairros, e imprime esse resumo no console."
   ]
  },
  {
   "cell_type": "code",
   "execution_count": 15,
   "id": "304403bb",
   "metadata": {},
   "outputs": [
    {
     "name": "stdout",
     "output_type": "stream",
     "text": [
      "\n",
      "RESUMO AUTOMÁTICO DOS CLUSTERS:\n",
      "\n",
      "Cluster 0 (1 bairros):\n",
      "Média de suspeitos: 1.78\n",
      "100.0% dos casos com arma\n",
      "Idade média dos suspeitos: 41.2 anos\n",
      "Horário médio das ocorrências: 19.0h\n",
      "Perfil: tráfico armado, isolado (poucos suspeitos), ocorrendo mais à noite\n",
      "Bairros: Espinheiro\n",
      "--------------------------------------------------------------------------------\n",
      "Cluster 1 (5 bairros):\n",
      "Média de suspeitos: 1.78\n",
      "100.0% dos casos com arma\n",
      "Idade média dos suspeitos: 43.1 anos\n",
      "Horário médio das ocorrências: 19.0h\n",
      "Perfil: tráfico armado, isolado (poucos suspeitos), ocorrendo mais à noite\n",
      "Bairros: Afogados, Casa Forte, Graças, Pina, Torre\n",
      "--------------------------------------------------------------------------------\n",
      "Cluster 2 (2 bairros):\n",
      "Média de suspeitos: 2.22\n",
      "100.0% dos casos com arma\n",
      "Idade média dos suspeitos: 42.0 anos\n",
      "Horário médio das ocorrências: 19.0h\n",
      "Perfil: tráfico armado, com vários suspeitos (organizado), ocorrendo mais à noite\n",
      "Bairros: Boa Viagem, Tamarineira\n",
      "--------------------------------------------------------------------------------\n",
      "Cluster 3 (2 bairros):\n",
      "Média de suspeitos: 2.13\n",
      "100.0% dos casos com arma\n",
      "Idade média dos suspeitos: 39.5 anos\n",
      "Horário médio das ocorrências: 19.0h\n",
      "Perfil: tráfico armado, com vários suspeitos (organizado), ocorrendo mais à noite\n",
      "Bairros: Imbiribeira, Santo Amaro\n",
      "--------------------------------------------------------------------------------\n"
     ]
    }
   ],
>>>>>>> master
   "source": [
    "print(\"\\nRESUMO AUTOMÁTICO DOS CLUSTERS:\\n\")\n",
    "\n",
    "for c in sorted(df_bairros['cluster'].unique()):\n",
    "    grupo = df_bairros[df_bairros['cluster'] == c]\n",
    "    qtd_bairros = grupo.shape[0]\n",
    "    media_suspeitos = grupo['media_suspeitos'].mean().round(2)\n",
    "    perc_arma = (grupo['percentual_com_arma'].mean() * 100).round(1)\n",
    "    hora_media = grupo['media_hora'].mean().round(1)\n",
    "    idade_media = grupo['media_idade_suspeitos'].mean().round(1)\n",
    "\n",
    "    # gerar “interpretação automática”\n",
    "    interpretacao = []\n",
    "    if perc_arma > 40:\n",
    "        interpretacao.append(\"tráfico armado\")\n",
    "    else:\n",
    "        interpretacao.append(\"tráfico sem arma\")\n",
    "\n",
    "    if media_suspeitos >= 2:\n",
    "        interpretacao.append(\"com vários suspeitos (organizado)\")\n",
    "    else:\n",
    "        interpretacao.append(\"isolado (poucos suspeitos)\")\n",
    "\n",
    "    if hora_media >= 18:\n",
    "        interpretacao.append(\"ocorrendo mais à noite\")\n",
    "    elif hora_media <= 6:\n",
    "        interpretacao.append(\"ocorrendo de madrugada\")\n",
    "    else:\n",
    "        interpretacao.append(\"ocorrendo durante o dia\")\n",
    "\n",
    "    print(f\"Cluster {c} ({qtd_bairros} bairros):\")\n",
    "    print(f\"Média de suspeitos: {media_suspeitos}\")\n",
    "    print(f\"{perc_arma}% dos casos com arma\")\n",
    "    print(f\"Idade média dos suspeitos: {idade_media} anos\")\n",
    "    print(f\"Horário médio das ocorrências: {hora_media}h\")\n",
    "    print(f\"Perfil: {', '.join(interpretacao)}\")\n",
    "    print(f\"Bairros: {', '.join(grupo['bairro'].to_list())}\")\n",
    "    print(\"-\" * 80)"
   ]
  },
  {
<<<<<<< HEAD
   "cell_type": "code",
   "execution_count": null,
   "id": "6c614b67",
   "metadata": {},
   "outputs": [],
=======
   "cell_type": "markdown",
   "id": "ebd9cc5f",
   "metadata": {},
   "source": [
    "7- Por fim, Visualizar, em 2D, os agrupamentos (clusters) dos bairros baseados no perfil dos crimes de tráfico, facilitando a interpretação visual de como os clusters estão separados e quais bairros estão em cada grupo."
   ]
  },
  {
   "cell_type": "code",
   "execution_count": 16,
   "id": "6c614b67",
   "metadata": {},
   "outputs": [
    {
     "data": {
      "image/png": "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",
      "text/plain": [
       "<Figure size 900x700 with 1 Axes>"
      ]
     },
     "metadata": {},
     "output_type": "display_data"
    }
   ],
>>>>>>> master
   "source": [
    "\n",
    "from sklearn.decomposition import PCA\n",
    "import matplotlib.pyplot as plt\n",
    "import seaborn as sns\n",
    "\n",
    "# Pegar apenas as features numéricas padronizadas\n",
    "from sklearn.preprocessing import StandardScaler\n",
    "\n",
    "features = ['media_suspeitos', 'media_vitimas', 'percentual_com_arma', 'media_idade_suspeitos', 'media_hora']\n",
    "X = df_bairros[features]\n",
    "X_scaled = StandardScaler().fit_transform(X)\n",
    "\n",
    "# Reduzir para 2 dimensões\n",
    "pca = PCA(n_components=2)\n",
    "pca_result = pca.fit_transform(X_scaled)\n",
    "\n",
    "# Adicionar resultados ao dataframe\n",
    "df_bairros['PCA1'] = pca_result[:, 0]\n",
    "df_bairros['PCA2'] = pca_result[:, 1]\n",
    "\n",
    "# Plotar os clusters agrupados\n",
    "plt.figure(figsize=(9,7))\n",
    "sns.scatterplot(\n",
    "    data=df_bairros,\n",
    "    x='PCA1',\n",
    "    y='PCA2',\n",
    "    hue='cluster',\n",
    "    palette='viridis',\n",
    "    s=200,\n",
    "    alpha=0.8\n",
    ")\n",
    "for i, row in df_bairros.iterrows():\n",
    "    plt.text(row['PCA1'] + 0.05, row['PCA2'] + 0.05, row['bairro'], fontsize=9)\n",
    "\n",
    "plt.title('Agrupamento de Bairros por Perfil de Tráfico (PCA)')\n",
    "plt.xlabel('Componente Principal 1')\n",
    "plt.ylabel('Componente Principal 2')\n",
    "plt.legend(title='Cluster')\n",
    "plt.show()\n"
   ]
  }
 ],
 "metadata": {
  "kernelspec": {
<<<<<<< HEAD
   "display_name": "Python 3",
=======
   "display_name": "venv (3.11.4)",
>>>>>>> master
   "language": "python",
   "name": "python3"
  },
  "language_info": {
   "codemirror_mode": {
    "name": "ipython",
    "version": 3
   },
   "file_extension": ".py",
   "mimetype": "text/x-python",
   "name": "python",
   "nbconvert_exporter": "python",
   "pygments_lexer": "ipython3",
   "version": "3.11.4"
  }
 },
 "nbformat": 4,
 "nbformat_minor": 5
}
