{
 "cells": [
  {
   "cell_type": "markdown",
   "id": "448efcbd",
   "metadata": {},
   "source": [
    "Escolhas dos Modelos:\n",
    "\n",
    "RandomForestRegressor ou HistGradientBoostingRegressor levando em conta:\n",
    "Desempenho: qual teve melhores métricas (MAE, RMSE, R² etc.).\n",
    "Interpretabilidade: qual é mais fácil de entender, explicar ou extrair importância das variáveis.\n",
    "Custo: tempo de treino, necessidade de hardware, complexidade para colocar em produção.\n",
    "\n",
    " justificativa para o caso:\n",
    "Para o problema de previsão de crimes por bairro/mês utilizamos e comparamos dois modelos: RandomForestRegressor e HistGradientBoostingRegressor. Ambos são algoritmos de aprendizado supervisionado que lidam bem com dados heterogêneos e não lineares.\n",
    "\n",
    "O HistGradientBoostingRegressor apresentou melhores métricas de desempenho (menor MAE/RMSE e maior R²) nos nossos testes, indicando maior capacidade preditiva. Além disso, ele lida bem com dados desbalanceados e aproveita os lags criados para capturar padrões temporais.\n",
    "\n",
    "O RandomForestRegressor, por outro lado, é mais interpretável e mais rápido para treinar, com possibilidade de extrair importâncias das variáveis de forma direta, mas obteve resultados um pouco inferiores no conjunto de teste.\n",
    "\n",
    "Considerando que nosso objetivo principal é maximizar a acurácia das previsões para apoiar decisões de segurança pública, aceitamos um pequeno aumento no custo computacional e na complexidade interpretativa para obter previsões mais precisas. Por isso, escolhemos o HistGradientBoostingRegressor como modelo final."
   ]
  },
  {
   "cell_type": "code",
   "execution_count": null,
   "id": "292ff536",
   "metadata": {},
   "outputs": [],
   "source": [
    "import pandas as pd \n",
    "import numpy as np\n",
    "from sklearn.model_selection import train_test_split \n",
    "from sklearn.ensemble import RandomForestRegressor\n",
    "from sklearn.preprocessing import OneHotEncoder \n",
    "from sklearn.compose import ColumnTransformer \n",
    "from sklearn.pipeline import Pipeline"
   ]
  },
  {
   "cell_type": "code",
   "execution_count": 2,
   "id": "f4c2ce4e",
   "metadata": {},
   "outputs": [
    {
     "data": {
      "text/html": [
       "<div>\n",
       "<style scoped>\n",
       "    .dataframe tbody tr th:only-of-type {\n",
       "        vertical-align: middle;\n",
       "    }\n",
       "\n",
       "    .dataframe tbody tr th {\n",
       "        vertical-align: top;\n",
       "    }\n",
       "\n",
       "    .dataframe thead th {\n",
       "        text-align: right;\n",
       "    }\n",
       "</style>\n",
       "<table border=\"1\" class=\"dataframe\">\n",
       "  <thead>\n",
       "    <tr style=\"text-align: right;\">\n",
       "      <th></th>\n",
       "      <th>id_ocorrencia</th>\n",
       "      <th>data_ocorrencia</th>\n",
       "      <th>bairro</th>\n",
       "      <th>tipo_crime</th>\n",
       "      <th>descricao_modus_operandi</th>\n",
       "      <th>arma_utilizada</th>\n",
       "      <th>quantidade_vitimas</th>\n",
       "      <th>quantidade_suspeitos</th>\n",
       "      <th>sexo_suspeito</th>\n",
       "      <th>idade_suspeito</th>\n",
       "      <th>orgao_responsavel</th>\n",
       "      <th>status_investigacao</th>\n",
       "      <th>latitude</th>\n",
       "      <th>longitude</th>\n",
       "    </tr>\n",
       "  </thead>\n",
       "  <tbody>\n",
       "    <tr>\n",
       "      <th>0</th>\n",
       "      <td>OCR100000</td>\n",
       "      <td>2024-08-02 19:48:16.958668</td>\n",
       "      <td>Imbiribeira</td>\n",
       "      <td>Sequestro</td>\n",
       "      <td>Golpe Telefônico</td>\n",
       "      <td>Faca</td>\n",
       "      <td>2</td>\n",
       "      <td>0</td>\n",
       "      <td>Não Informado</td>\n",
       "      <td>53</td>\n",
       "      <td>Delegacia Casa Forte</td>\n",
       "      <td>Concluído</td>\n",
       "      <td>-8.111355</td>\n",
       "      <td>-34.943524</td>\n",
       "    </tr>\n",
       "    <tr>\n",
       "      <th>1</th>\n",
       "      <td>OCR100001</td>\n",
       "      <td>2022-10-29 19:48:16.958694</td>\n",
       "      <td>Boa Viagem</td>\n",
       "      <td>Homicídio</td>\n",
       "      <td>Fraude Online</td>\n",
       "      <td>Objeto Contundente</td>\n",
       "      <td>4</td>\n",
       "      <td>1</td>\n",
       "      <td>Não Informado</td>\n",
       "      <td>29</td>\n",
       "      <td>Delegacia Casa Forte</td>\n",
       "      <td>Arquivado</td>\n",
       "      <td>-8.082012</td>\n",
       "      <td>-34.861911</td>\n",
       "    </tr>\n",
       "    <tr>\n",
       "      <th>2</th>\n",
       "      <td>OCR100002</td>\n",
       "      <td>2023-03-12 19:48:16.958698</td>\n",
       "      <td>Santo Amaro</td>\n",
       "      <td>Furto</td>\n",
       "      <td>Invasão Residencial</td>\n",
       "      <td>Nenhum</td>\n",
       "      <td>1</td>\n",
       "      <td>4</td>\n",
       "      <td>Feminino</td>\n",
       "      <td>65</td>\n",
       "      <td>Delegacia Casa Forte</td>\n",
       "      <td>Arquivado</td>\n",
       "      <td>-8.096916</td>\n",
       "      <td>-34.898378</td>\n",
       "    </tr>\n",
       "    <tr>\n",
       "      <th>3</th>\n",
       "      <td>OCR100003</td>\n",
       "      <td>2025-04-18 19:48:16.958700</td>\n",
       "      <td>Afogados</td>\n",
       "      <td>Roubo</td>\n",
       "      <td>Arrombamento</td>\n",
       "      <td>Nenhum</td>\n",
       "      <td>1</td>\n",
       "      <td>4</td>\n",
       "      <td>Não Informado</td>\n",
       "      <td>30</td>\n",
       "      <td>Delegacia Torre</td>\n",
       "      <td>Concluído</td>\n",
       "      <td>-8.135066</td>\n",
       "      <td>-34.913460</td>\n",
       "    </tr>\n",
       "    <tr>\n",
       "      <th>4</th>\n",
       "      <td>OCR100004</td>\n",
       "      <td>2025-06-30 19:48:16.958702</td>\n",
       "      <td>Tamarineira</td>\n",
       "      <td>Roubo</td>\n",
       "      <td>Estupro Coletivo</td>\n",
       "      <td>Arma de Fogo</td>\n",
       "      <td>3</td>\n",
       "      <td>3</td>\n",
       "      <td>Masculino</td>\n",
       "      <td>20</td>\n",
       "      <td>Delegacia Casa Forte</td>\n",
       "      <td>Concluído</td>\n",
       "      <td>-8.074124</td>\n",
       "      <td>-34.933504</td>\n",
       "    </tr>\n",
       "  </tbody>\n",
       "</table>\n",
       "</div>"
      ],
      "text/plain": [
       "  id_ocorrencia             data_ocorrencia       bairro tipo_crime  \\\n",
       "0     OCR100000  2024-08-02 19:48:16.958668  Imbiribeira  Sequestro   \n",
       "1     OCR100001  2022-10-29 19:48:16.958694   Boa Viagem  Homicídio   \n",
       "2     OCR100002  2023-03-12 19:48:16.958698  Santo Amaro      Furto   \n",
       "3     OCR100003  2025-04-18 19:48:16.958700     Afogados      Roubo   \n",
       "4     OCR100004  2025-06-30 19:48:16.958702  Tamarineira      Roubo   \n",
       "\n",
       "  descricao_modus_operandi      arma_utilizada  quantidade_vitimas  \\\n",
       "0         Golpe Telefônico                Faca                   2   \n",
       "1            Fraude Online  Objeto Contundente                   4   \n",
       "2      Invasão Residencial              Nenhum                   1   \n",
       "3             Arrombamento              Nenhum                   1   \n",
       "4         Estupro Coletivo        Arma de Fogo                   3   \n",
       "\n",
       "   quantidade_suspeitos  sexo_suspeito  idade_suspeito     orgao_responsavel  \\\n",
       "0                     0  Não Informado              53  Delegacia Casa Forte   \n",
       "1                     1  Não Informado              29  Delegacia Casa Forte   \n",
       "2                     4       Feminino              65  Delegacia Casa Forte   \n",
       "3                     4  Não Informado              30       Delegacia Torre   \n",
       "4                     3      Masculino              20  Delegacia Casa Forte   \n",
       "\n",
       "  status_investigacao  latitude  longitude  \n",
       "0           Concluído -8.111355 -34.943524  \n",
       "1           Arquivado -8.082012 -34.861911  \n",
       "2           Arquivado -8.096916 -34.898378  \n",
       "3           Concluído -8.135066 -34.913460  \n",
       "4           Concluído -8.074124 -34.933504  "
      ]
     },
     "execution_count": 2,
     "metadata": {},
     "output_type": "execute_result"
    }
   ],
   "source": [
    "df = pd.read_csv(\"C:/Users/55819/Downloads/Crime_prediction/data/raw/dataset_ocorrencias_delegacia_5.csv.\")\n",
    "df.head()"
   ]
  },
  {
   "cell_type": "markdown",
   "id": "6668b308",
   "metadata": {},
   "source": [
    "*Apagando colunas que não são relevantes para o modelo.*"
   ]
  },
  {
   "cell_type": "code",
   "execution_count": 3,
   "id": "8f2c3563",
   "metadata": {},
   "outputs": [
    {
     "data": {
      "text/html": [
       "<div>\n",
       "<style scoped>\n",
       "    .dataframe tbody tr th:only-of-type {\n",
       "        vertical-align: middle;\n",
       "    }\n",
       "\n",
       "    .dataframe tbody tr th {\n",
       "        vertical-align: top;\n",
       "    }\n",
       "\n",
       "    .dataframe thead th {\n",
       "        text-align: right;\n",
       "    }\n",
       "</style>\n",
       "<table border=\"1\" class=\"dataframe\">\n",
       "  <thead>\n",
       "    <tr style=\"text-align: right;\">\n",
       "      <th></th>\n",
       "      <th>data_ocorrencia</th>\n",
       "      <th>bairro</th>\n",
       "      <th>tipo_crime</th>\n",
       "      <th>descricao_modus_operandi</th>\n",
       "      <th>arma_utilizada</th>\n",
       "      <th>quantidade_vitimas</th>\n",
       "      <th>quantidade_suspeitos</th>\n",
       "      <th>sexo_suspeito</th>\n",
       "      <th>idade_suspeito</th>\n",
       "      <th>orgao_responsavel</th>\n",
       "    </tr>\n",
       "  </thead>\n",
       "  <tbody>\n",
       "    <tr>\n",
       "      <th>0</th>\n",
       "      <td>2024-08-02 19:48:16.958668</td>\n",
       "      <td>Imbiribeira</td>\n",
       "      <td>Sequestro</td>\n",
       "      <td>Golpe Telefônico</td>\n",
       "      <td>Faca</td>\n",
       "      <td>2</td>\n",
       "      <td>0</td>\n",
       "      <td>Não Informado</td>\n",
       "      <td>53</td>\n",
       "      <td>Delegacia Casa Forte</td>\n",
       "    </tr>\n",
       "    <tr>\n",
       "      <th>1</th>\n",
       "      <td>2022-10-29 19:48:16.958694</td>\n",
       "      <td>Boa Viagem</td>\n",
       "      <td>Homicídio</td>\n",
       "      <td>Fraude Online</td>\n",
       "      <td>Objeto Contundente</td>\n",
       "      <td>4</td>\n",
       "      <td>1</td>\n",
       "      <td>Não Informado</td>\n",
       "      <td>29</td>\n",
       "      <td>Delegacia Casa Forte</td>\n",
       "    </tr>\n",
       "    <tr>\n",
       "      <th>2</th>\n",
       "      <td>2023-03-12 19:48:16.958698</td>\n",
       "      <td>Santo Amaro</td>\n",
       "      <td>Furto</td>\n",
       "      <td>Invasão Residencial</td>\n",
       "      <td>Nenhum</td>\n",
       "      <td>1</td>\n",
       "      <td>4</td>\n",
       "      <td>Feminino</td>\n",
       "      <td>65</td>\n",
       "      <td>Delegacia Casa Forte</td>\n",
       "    </tr>\n",
       "    <tr>\n",
       "      <th>3</th>\n",
       "      <td>2025-04-18 19:48:16.958700</td>\n",
       "      <td>Afogados</td>\n",
       "      <td>Roubo</td>\n",
       "      <td>Arrombamento</td>\n",
       "      <td>Nenhum</td>\n",
       "      <td>1</td>\n",
       "      <td>4</td>\n",
       "      <td>Não Informado</td>\n",
       "      <td>30</td>\n",
       "      <td>Delegacia Torre</td>\n",
       "    </tr>\n",
       "    <tr>\n",
       "      <th>4</th>\n",
       "      <td>2025-06-30 19:48:16.958702</td>\n",
       "      <td>Tamarineira</td>\n",
       "      <td>Roubo</td>\n",
       "      <td>Estupro Coletivo</td>\n",
       "      <td>Arma de Fogo</td>\n",
       "      <td>3</td>\n",
       "      <td>3</td>\n",
       "      <td>Masculino</td>\n",
       "      <td>20</td>\n",
       "      <td>Delegacia Casa Forte</td>\n",
       "    </tr>\n",
       "  </tbody>\n",
       "</table>\n",
       "</div>"
      ],
      "text/plain": [
       "              data_ocorrencia       bairro tipo_crime  \\\n",
       "0  2024-08-02 19:48:16.958668  Imbiribeira  Sequestro   \n",
       "1  2022-10-29 19:48:16.958694   Boa Viagem  Homicídio   \n",
       "2  2023-03-12 19:48:16.958698  Santo Amaro      Furto   \n",
       "3  2025-04-18 19:48:16.958700     Afogados      Roubo   \n",
       "4  2025-06-30 19:48:16.958702  Tamarineira      Roubo   \n",
       "\n",
       "  descricao_modus_operandi      arma_utilizada  quantidade_vitimas  \\\n",
       "0         Golpe Telefônico                Faca                   2   \n",
       "1            Fraude Online  Objeto Contundente                   4   \n",
       "2      Invasão Residencial              Nenhum                   1   \n",
       "3             Arrombamento              Nenhum                   1   \n",
       "4         Estupro Coletivo        Arma de Fogo                   3   \n",
       "\n",
       "   quantidade_suspeitos  sexo_suspeito  idade_suspeito     orgao_responsavel  \n",
       "0                     0  Não Informado              53  Delegacia Casa Forte  \n",
       "1                     1  Não Informado              29  Delegacia Casa Forte  \n",
       "2                     4       Feminino              65  Delegacia Casa Forte  \n",
       "3                     4  Não Informado              30       Delegacia Torre  \n",
       "4                     3      Masculino              20  Delegacia Casa Forte  "
      ]
     },
     "execution_count": 3,
     "metadata": {},
     "output_type": "execute_result"
    }
   ],
   "source": [
    "df = df.drop(['id_ocorrencia', 'latitude', 'longitude', 'status_investigacao'], axis=1)\n",
    "df.head()"
   ]
  },
  {
   "cell_type": "markdown",
   "id": "d0303b5a",
   "metadata": {},
   "source": [
    "*Feature Engineering (Criação de Novas Variáveis) adicionando a variável ano e mes que pode ser útil para prever crimes com base no tempo*"
   ]
  },
  {
   "cell_type": "code",
   "execution_count": 5,
   "id": "dd11b1b2",
   "metadata": {},
   "outputs": [],
   "source": [
    "df['data_ocorrencia'] = pd.to_datetime(df['data_ocorrencia'])\n",
    "\n",
    "\n",
    "df[\"data_ocorrencia\"] = pd.to_datetime(df[\"data_ocorrencia\"])\n",
    "\n",
    "# Criar novas colunas com partes da data\n",
    "df[\"ano\"] = df[\"data_ocorrencia\"].dt.year\n",
    "df[\"mes\"] = df[\"data_ocorrencia\"].dt.month\n",
    "df[\"dia\"] = df[\"data_ocorrencia\"].dt.day\n",
    "df[\"hora\"] = df[\"data_ocorrencia\"].dt.hour\n",
    "df[\"minuto\"] = df[\"data_ocorrencia\"].dt.minute\n",
    "df[\"segundo\"] = df[\"data_ocorrencia\"].dt.second\n",
    "\n",
    "# Dia da semana (segunda=0, domingo=6)\n",
    "df[\"dia_semana_num\"] = df[\"data_ocorrencia\"].dt.dayofweek\n",
    "\n",
    "\n",
    "df[\"dia_semana_nome\"] = df[\"data_ocorrencia\"].dt.day_name()\n",
    "\n",
    "df[\"dia_semana_nome\"] = df[\"data_ocorrencia\"].dt.day_name()"
   ]
  },
  {
   "cell_type": "code",
   "execution_count": 7,
   "id": "88c449b4",
   "metadata": {},
   "outputs": [
    {
     "data": {
      "text/plain": [
       "Index(['data_ocorrencia', 'bairro', 'tipo_crime', 'descricao_modus_operandi',\n",
       "       'arma_utilizada', 'quantidade_vitimas', 'quantidade_suspeitos',\n",
       "       'sexo_suspeito', 'idade_suspeito', 'orgao_responsavel', 'ano', 'mes',\n",
       "       'dia', 'hora', 'minuto', 'segundo', 'dia_semana_num',\n",
       "       'dia_semana_nome'],\n",
       "      dtype='object')"
      ]
     },
     "execution_count": 7,
     "metadata": {},
     "output_type": "execute_result"
    }
   ],
   "source": [
    "df.columns"
   ]
  },
  {
   "cell_type": "markdown",
   "id": "fb591af6",
   "metadata": {},
   "source": [
    "*Criar coluna para prever padrões em determinada época do ano*"
   ]
  },
  {
   "cell_type": "code",
   "execution_count": null,
   "id": "af9a0492",
   "metadata": {},
   "outputs": [],
   "source": [
    "# Criar uma nova coluna com a estação do ano\n",
    "\n",
    "def estacao(mes): \n",
    "    if mes in [12,1,2]: return \"Verão\" \n",
    "    elif mes in [3,4,5]: return \"Outono\" \n",
    "    elif mes in [6,7,8]: return \"Inverno\" \n",
    "\n",
    "    else: return \"Primavera\" \n",
    "    \n",
    "df['estacao'] = df['mes'].apply(estacao)"
   ]
  },
  {
   "cell_type": "markdown",
   "id": "1f0b9af4",
   "metadata": {},
   "source": [
    "*Filtrar apenas pelo tráfico de drogas.*"
   ]
  },
  {
   "cell_type": "code",
   "execution_count": null,
   "id": "ff3dc507",
   "metadata": {},
   "outputs": [],
   "source": [
    "\n",
    "df_trafico = df[df['tipo_crime'].str.contains(\"Tráfico\", case=False, na=False)]"
   ]
  },
  {
   "cell_type": "markdown",
   "id": "8b1ae020",
   "metadata": {},
   "source": [
    "*Agrupar por bairro, ano e mês que são as feactures principais*"
   ]
  },
  {
   "cell_type": "code",
   "execution_count": 12,
   "id": "ccaf7dc6",
   "metadata": {},
   "outputs": [],
   "source": [
    "df_grouped = (\n",
    "    df_trafico.groupby(['bairro', 'ano', 'mes'])\n",
    "    .size()\n",
    "    .reset_index(name='quantidade_crimes')\n",
    ")\n",
    "\n",
    "# Ordenar por bairro e tempo\n",
    "df_grouped = df_grouped.sort_values(by=['bairro', 'ano', 'mes'])"
   ]
  },
  {
   "cell_type": "markdown",
   "id": "091a4d9c",
   "metadata": {},
   "source": [
    "*Essas variáveis de lag ajudam modelos de machine learning a entender padrões passados.*\n",
    "\n",
    "*Exemplo: se você quer prever o número de crimes em setembro, pode usar o número de crimes em agosto (lag1) e julho (lag2) como variáveis preditoras.*"
   ]
  },
  {
   "cell_type": "code",
   "execution_count": 13,
   "id": "673ab944",
   "metadata": {},
   "outputs": [],
   "source": [
    "# Criar lags (histórico)\n",
    "df_grouped['lag1'] = df_grouped.groupby('bairro')['quantidade_crimes'].shift(1)\n",
    "df_grouped['lag2'] = df_grouped.groupby('bairro')['quantidade_crimes'].shift(2)\n",
    "df_grouped = df_grouped.fillna(0)"
   ]
  },
  {
   "cell_type": "markdown",
   "id": "899b0664",
   "metadata": {},
   "source": [
    "*Separando o x e o y(targt)*"
   ]
  },
  {
   "cell_type": "code",
   "execution_count": 17,
   "id": "eb6c07e2",
   "metadata": {},
   "outputs": [],
   "source": [
    "X = df_grouped[['bairro', 'ano', 'mes', 'lag1', 'lag2']]\n",
    "y = df_grouped['quantidade_crimes']"
   ]
  },
  {
   "cell_type": "markdown",
   "id": "7c943532",
   "metadata": {},
   "source": [
    "*Gera todas as combinações possíveis de bairro, ano e mês.*\n",
    "\n",
    "*Faz a junção (merge) dessas combinações com o DataFrame df_grouped (onde há os dados de crimes).*\n",
    "\n",
    "*Preenche os valores ausentes (NaN) por 0, para tratar meses sem registros de crimes.*\n",
    "\n",
    "*Cria as variáveis de lag (lag1 e lag2), que representam o histórico de crimes dos meses anteriores para cada bairro.*"
   ]
  },
  {
   "cell_type": "code",
   "execution_count": 25,
   "id": "614be0c1",
   "metadata": {},
   "outputs": [],
   "source": [
    "# Criar todas as combinações de bairro, ano e mês\n",
    "import itertools\n",
    "\n",
    "bairros = df_trafico['bairro'].unique()\n",
    "anos = df_grouped['ano'].unique()\n",
    "meses = range(1,13)\n",
    "\n",
    "all_combinations = pd.DataFrame(list(itertools.product(bairros, anos, meses)), columns=['bairro','ano','mes'])\n",
    "\n",
    "# Merge com df_grouped\n",
    "df_full = pd.merge(all_combinations, df_grouped, on=['bairro','ano','mes'], how='left')\n",
    "\n",
    "# Substituir NaN por 0 (meses sem crimes)\n",
    "df_full['quantidade_crimes'] = df_full['quantidade_crimes'].fillna(0)\n",
    "\n",
    "# Criar lags novamente\n",
    "df_full['lag1'] = df_full.groupby('bairro')['quantidade_crimes'].shift(1).fillna(0)\n",
    "df_full['lag2'] = df_full.groupby('bairro')['quantidade_crimes'].shift(2).fillna(0)\n"
   ]
  },
  {
   "cell_type": "markdown",
   "id": "5eae3e1e",
   "metadata": {},
   "source": []
  },
  {
   "cell_type": "markdown",
   "id": "cb70db85",
   "metadata": {},
   "source": [
    "*Conta o número de meses com 0 crimes para cada bairro.*\n",
    "\n",
    "*Calcula a proporção de meses com 0 crimes em relação ao total de meses de cada bairro.*\n",
    "\n",
    "*Ordena os bairros pela proporção de meses com 0 crimes em ordem decrescente, permitindo ver quais bairros têm uma maior incidência de meses sem crimes.*"
   ]
  },
  {
   "cell_type": "code",
   "execution_count": 27,
   "id": "873277d3",
   "metadata": {},
   "outputs": [
    {
     "name": "stdout",
     "output_type": "stream",
     "text": [
      "bairro\n",
      "Afogados       25\n",
      "Boa Viagem     17\n",
      "Casa Forte     20\n",
      "Espinheiro     19\n",
      "Graças         19\n",
      "Imbiribeira    22\n",
      "Pina           18\n",
      "Santo Amaro    24\n",
      "Tamarineira    18\n",
      "Torre          21\n",
      "dtype: int64\n",
      "bairro\n",
      "Afogados       0.520833\n",
      "Santo Amaro    0.500000\n",
      "Imbiribeira    0.458333\n",
      "Torre          0.437500\n",
      "Casa Forte     0.416667\n",
      "Espinheiro     0.395833\n",
      "Graças         0.395833\n",
      "Pina           0.375000\n",
      "Tamarineira    0.375000\n",
      "Boa Viagem     0.354167\n",
      "dtype: float64\n"
     ]
    }
   ],
   "source": [
    "# Quantos meses com 0 crimes por bairro\n",
    "zeros_por_bairro = df_full[df_full['quantidade_crimes'] == 0].groupby('bairro').size()\n",
    "print(zeros_por_bairro)\n",
    "\n",
    "# Proporção de meses com 0 crimes\n",
    "total_meses = df_full.groupby('bairro').size()\n",
    "prop_zeros = zeros_por_bairro / total_meses\n",
    "print(prop_zeros.sort_values(ascending=False))\n"
   ]
  },
  {
   "cell_type": "markdown",
   "id": "3c09bf02",
   "metadata": {},
   "source": []
  },
  {
   "cell_type": "code",
   "execution_count": 26,
   "id": "9a2280dd",
   "metadata": {},
   "outputs": [
    {
     "name": "stdout",
     "output_type": "stream",
     "text": [
      "MAE: 0.7122321428571429\n",
      "MSE: 0.7472254464285715\n",
      "R²: -0.14\n",
      "RMSE: 0.8644220302772087\n"
     ]
    }
   ],
   "source": [
    "from sklearn.metrics import mean_absolute_error, mean_squared_error, r2_score\n",
    "\n",
    "\n",
    "\n",
    "preprocessor = ColumnTransformer([\n",
    "    ('cat', OneHotEncoder(handle_unknown='ignore'), ['bairro'])\n",
    "], remainder='passthrough')\n",
    "\n",
    "# Modelo\n",
    "model = Pipeline([\n",
    "    ('prep', preprocessor),\n",
    "    ('rf', RandomForestRegressor(n_estimators=200, random_state=42))\n",
    "])\n",
    "\n",
    "X_train, X_test, y_train, y_test = train_test_split(X, y, test_size=0.2, random_state=42)\n",
    "\n",
    "model.fit(X_train, y_train)\n",
    "y_pred = model.predict(X_test)\n",
    "\n",
    "mae = mean_absolute_error(y_test, y_pred)\n",
    "mse = mean_squared_error(y_test, y_pred)\n",
    "r2 = r2_score(y_test, y_pred)\n",
    "rmse = np.sqrt(mse)\n",
    "\n",
    "print(f\"MAE: {mae}\")\n",
    "print(f\"MSE: {mse}\")\n",
    "print(f\"R²: {r2:.2f}\")\n",
    "print(f\"RMSE: {rmse}\")\n"
   ]
  },
  {
   "cell_type": "markdown",
   "id": "1323bda4",
   "metadata": {},
   "source": [
    "*Treinando o modelo com o HistGradientBoostingRegressor.*"
   ]
  },
  {
   "cell_type": "code",
   "execution_count": null,
   "id": "e8b269cd",
   "metadata": {},
   "outputs": [
    {
     "name": "stdout",
     "output_type": "stream",
     "text": [
      "📊 Avaliação do Modelo HGB\n",
      "MAE: 0.29\n",
      "MSE: 0.19\n",
      "RMSE: 0.43\n",
      "R²: 0.86\n"
     ]
    }
   ],
   "source": [
    "from sklearn.ensemble import HistGradientBoostingRegressor\n",
    "from sklearn.metrics import mean_absolute_error, mean_squared_error, r2_score\n",
    "\n",
    "\n",
    "df_trafico = df[df['tipo_crime'].str.contains(\"Tráfico\", case=False, na=False)]\n",
    "\n",
    "\n",
    "# Criar dataset completo (todos meses x bairros)\n",
    "\n",
    "bairros = df_trafico['bairro'].unique()\n",
    "anos = df_trafico['ano'].unique()\n",
    "meses = range(1,13)\n",
    "\n",
    "all_combinations = pd.DataFrame(list(itertools.product(bairros, anos, meses)),\n",
    "                                columns=['bairro','ano','mes'])\n",
    "\n",
    "# Agregar crimes por bairro, ano, mês\n",
    "df_grouped = df_trafico.groupby(['bairro','ano','mes']).size().reset_index(name='quantidade_crimes')\n",
    "\n",
    "# Merge e preencher meses sem crimes\n",
    "df_full = pd.merge(all_combinations, df_grouped, on=['bairro','ano','mes'], how='left')\n",
    "df_full['quantidade_crimes'] = df_full['quantidade_crimes'].fillna(0)\n",
    "\n",
    "\n",
    "# Cria mais lags \n",
    "\n",
    "for lag in range(1,7):  # lag1 a lag6\n",
    "    df_full[f'lag{lag}'] = df_full.groupby('bairro')['quantidade_crimes'].shift(lag).fillna(0)\n",
    "\n",
    "\n",
    "\n",
    "df_extra = df_trafico.groupby(['bairro','ano','mes']).agg({\n",
    "    'quantidade_vitimas':'sum',\n",
    "    'quantidade_suspeitos':'sum',\n",
    "    'arma_utilizada':'first'  \n",
    "}).reset_index()\n",
    "\n",
    "\n",
    "\n",
    "df_full = pd.merge(df_full, df_extra, on=['bairro','ano','mes'], how='left')\n",
    "df_full[['quantidade_vitimas','quantidade_suspeitos']] = df_full[['quantidade_vitimas','quantidade_suspeitos']].fillna(0)\n",
    "df_full['arma_utilizada'] = df_full['arma_utilizada'].fillna('Nenhum')\n",
    "\n",
    "\n",
    "#  Definir features e target\n",
    "\n",
    "\n",
    "features = ['bairro','ano','mes','lag1','lag2','lag3','lag4','lag5','lag6',\n",
    "            'quantidade_vitimas','quantidade_suspeitos','arma_utilizada','estacao']\n",
    "target = 'quantidade_crimes'\n",
    "\n",
    "\n",
    "def get_estacao(mes):\n",
    "    if mes in [12, 1, 2]:\n",
    "        return 'Verão'\n",
    "    elif mes in [3, 4, 5]:\n",
    "        return 'Outono'\n",
    "    elif mes in [6, 7, 8]:\n",
    "        return 'Inverno'\n",
    "    else:\n",
    "        return 'Primavera'\n",
    "\n",
    "df_full['estacao'] = df_full['mes'].apply(get_estacao)\n",
    "\n",
    "\n",
    "\n",
    "X = df_full[features]\n",
    "y = df_full[target]\n",
    "\n",
    "\n",
    "\n",
    "#  Pipeline \n",
    "\n",
    "preprocessor = ColumnTransformer([\n",
    "    ('cat', OneHotEncoder(handle_unknown='ignore'), ['bairro','arma_utilizada','estacao'])\n",
    "], remainder='passthrough')\n",
    "\n",
    "model = Pipeline([\n",
    "    ('prep', preprocessor),\n",
    "    ('hgb', HistGradientBoostingRegressor(max_iter=500, learning_rate=0.1, max_depth=6, random_state=42))\n",
    "])\n",
    "\n",
    "\n",
    "X_train, X_test, y_train, y_test = train_test_split(X, y, test_size=0.2, shuffle=False)\n",
    "\n",
    "model.fit(X_train, y_train)\n",
    "y_pred = model.predict(X_test)\n",
    "\n",
    "mae = mean_absolute_error(y_test, y_pred)\n",
    "mse = mean_squared_error(y_test, y_pred)\n",
    "rmse = np.sqrt(mse)\n",
    "r2 = r2_score(y_test, y_pred)\n",
    "\n",
    "print(\"Avaliação do Modelo HGB\")\n",
    "print(f\"MAE: {mae:.2f}\")\n",
    "print(f\"MSE: {mse:.2f}\")\n",
    "print(f\"RMSE: {rmse:.2f}\")\n",
    "print(f\"R²: {r2:.2f}\")"
   ]
  },
  {
   "cell_type": "markdown",
   "id": "fdafdbe0",
   "metadata": {},
   "source": [
    "*Treinando o modelo com o RandomForestRegressor*"
   ]
  },
  {
   "cell_type": "code",
   "execution_count": null,
   "id": "531ed8ce",
   "metadata": {},
   "outputs": [
    {
     "name": "stdout",
     "output_type": "stream",
     "text": [
      "🌲 Avaliação do Random Forest\n",
      "MAE: 0.23\n",
      "MSE: 0.16\n",
      "RMSE: 0.40\n",
      "R²: 0.88\n",
      "\n"
     ]
    }
   ],
   "source": [
    "from sklearn.ensemble import RandomForestRegressor\n",
    "from sklearn.model_selection import train_test_split\n",
    "from sklearn.metrics import mean_absolute_error, mean_squared_error, r2_score\n",
    "\n",
    "X_train, X_test, y_train, y_test = train_test_split(X, y, test_size=0.2, shuffle=False)\n",
    "\n",
    "# 🔧 Pré-processamento\n",
    "preprocessor = ColumnTransformer([\n",
    "    ('cat', OneHotEncoder(handle_unknown='ignore'), ['bairro', 'arma_utilizada', 'estacao'])\n",
    "], remainder='passthrough')\n",
    "\n",
    "\n",
    "# Modelo: Random Forest\n",
    "rf_model = Pipeline([\n",
    "    ('prep', preprocessor),\n",
    "    ('rf', RandomForestRegressor(n_estimators=100, max_depth=10, random_state=42))\n",
    "])\n",
    "\n",
    "rf_model.fit(X_train, y_train)\n",
    "rf_pred = rf_model.predict(X_test)\n",
    "\n",
    "print(\"Avaliação do Random Forest\")\n",
    "print(f\"MAE: {mean_absolute_error(y_test, rf_pred):.2f}\")\n",
    "print(f\"MSE: {mean_squared_error(y_test, rf_pred):.2f}\")\n",
    "print(f\"RMSE: {np.sqrt(mean_squared_error(y_test, rf_pred)):.2f}\")\n",
    "print(f\"R²: {r2_score(y_test, rf_pred):.2f}\")\n",
    "\n"
   ]
  },
  {
   "cell_type": "code",
   "execution_count": null,
   "id": "47870693",
   "metadata": {},
   "outputs": [
    {
     "data": {
      "image/png": "[encoded data removed]",
      "text/plain": [
       "<Figure size 1000x600 with 1 Axes>"
      ]
     },
     "metadata": {},
     "output_type": "display_data"
    }
   ],
   "source": [
    "import matplotlib.pyplot as plt\n",
    "import seaborn as sns\n",
    "\n",
    "# Exemplo de gráfico comparando real x previsto\n",
    "plt.figure(figsize=(10,6))\n",
    "sns.scatterplot(x=y_test, y=y_pred)\n",
    "plt.plot([0, max(y_test)], [0, max(y_test)], 'r--')  \n",
    "plt.xlabel(\"Quantidade Real de Crimes\")\n",
    "plt.ylabel(\"Quantidade Prevista de Crimes\")\n",
    "plt.title(\"Real vs Previsto - Teste\")\n",
    "plt.show()\n"
   ]
  },
  {
   "cell_type": "markdown",
   "id": "4c0572fb",
   "metadata": {},
   "source": [
    "*A linha vermelha parece seguir uma tendência crescente. Isso indica que à medida que a quantidade real de crimes aumenta, o modelo também prevê um aumento na quantidade de crimes, o que é um bom sinal de que o modelo está capturando uma tendência.*\n",
    "\n",
    "*o fato de os pontos não estarem perfeitamente alinhados à linha vermelha sugere que o modelo ainda tem erros de previsão.*"
   ]
  },
  {
   "cell_type": "markdown",
   "id": "57ff2490",
   "metadata": {},
   "source": [
    "*Exemplo de previsão*"
   ]
  },
  {
   "cell_type": "code",
   "execution_count": 41,
   "id": "0f3bf791",
   "metadata": {},
   "outputs": [],
   "source": [
    "import pandas as pd\n",
    "import matplotlib.pyplot as plt\n",
    "import seaborn as sns\n",
    "\n",
    "def prever_e_grafico(modelo, df_full, ano, mes):\n",
    "\n",
    "    \n",
    "    bairros = df_full['bairro'].unique()\n",
    "    dados_novos = []\n",
    "\n",
    "    # Criar dataset de previsão com lags e features\n",
    "    for bairro in bairros:\n",
    "        lags = []\n",
    "        for lag in range(1,7):\n",
    "            prev_mes = mes - lag\n",
    "            prev_ano = ano\n",
    "            if prev_mes <= 0:\n",
    "                prev_mes += 12\n",
    "                prev_ano -= 1\n",
    "            val = df_full[(df_full['bairro']==bairro) & \n",
    "                          (df_full['ano']==prev_ano) & \n",
    "                          (df_full['mes']==prev_mes)]['quantidade_crimes']\n",
    "            if len(val) == 0:\n",
    "                val = 0\n",
    "            else:\n",
    "                val = val.values[0]\n",
    "            lags.append(val)\n",
    "        \n",
    "        # Features extras\n",
    "        extra = df_full[(df_full['bairro']==bairro) & (df_full['ano']==ano) & (df_full['mes']==mes)]\n",
    "        if extra.empty:\n",
    "            vit = 0\n",
    "            sus = 0\n",
    "            arma = 'Nenhum'\n",
    "        else:\n",
    "            vit = extra['quantidade_vitimas'].values[0]\n",
    "            sus = extra['quantidade_suspeitos'].values[0]\n",
    "            arma = extra['arma_utilizada'].values[0]\n",
    "        \n",
    "        # Estação\n",
    "        def estacao(mes):\n",
    "            if mes in [12,1,2]: return \"Verão\"\n",
    "            elif mes in [3,4,5]: return \"Outono\"\n",
    "            elif mes in [6,7,8]: return \"Inverno\"\n",
    "            else: return \"Primavera\"\n",
    "        est = estacao(mes)\n",
    "        \n",
    "        dados_novos.append({\n",
    "            'bairro': bairro,\n",
    "            'ano': ano,\n",
    "            'mes': mes,\n",
    "            'lag1': lags[0],\n",
    "            'lag2': lags[1],\n",
    "            'lag3': lags[2],\n",
    "            'lag4': lags[3],\n",
    "            'lag5': lags[4],\n",
    "            'lag6': lags[5],\n",
    "            'quantidade_vitimas': vit,\n",
    "            'quantidade_suspeitos': sus,\n",
    "            'arma_utilizada': arma,\n",
    "            'estacao': est\n",
    "        })\n",
    "    \n",
    "    df_novos = pd.DataFrame(dados_novos)\n",
    "    df_novos['previsao_crimes'] = modelo.predict(df_novos)\n",
    "    \n",
    "    # Gráfico\n",
    "    plt.figure(figsize=(12,6))\n",
    "    sns.barplot(data=df_novos, x='bairro', y='previsao_crimes', palette='Reds')\n",
    "    plt.title(f\"Previsão de Crimes de Tráfico - {mes}/{ano}\")\n",
    "    plt.ylabel(\"Quantidade Prevista de Crimes\")\n",
    "    plt.xlabel(\"Bairro\")\n",
    "    plt.ylim(0, df_novos['previsao_crimes'].max()+2)\n",
    "    plt.show()\n",
    "    \n",
    "    return df_novos[['bairro','ano','mes','previsao_crimes']]\n"
   ]
  },
  {
   "cell_type": "markdown",
   "id": "31614537",
   "metadata": {},
   "source": [
    "*Prever o um tráfico de drogas*"
   ]
  },
  {
   "cell_type": "code",
   "execution_count": 42,
   "id": "16a63f0d",
   "metadata": {},
   "outputs": [
    {
     "name": "stderr",
     "output_type": "stream",
     "text": [
      "C:\\Users\\55819\\AppData\\Local\\Temp\\ipykernel_9512\\59826488.py:69: FutureWarning: \n",
      "\n",
      "Passing `palette` without assigning `hue` is deprecated and will be removed in v0.14.0. Assign the `x` variable to `hue` and set `legend=False` for the same effect.\n",
      "\n",
      "  sns.barplot(data=df_novos, x='bairro', y='previsao_crimes', palette='Reds')\n"
     ]
    },
    {
     "data": {
      "image/png": "[encoded data removed]",
      "text/plain": [
       "<Figure size 1200x600 with 1 Axes>"
      ]
     },
     "metadata": {},
     "output_type": "display_data"
    },
    {
     "name": "stdout",
     "output_type": "stream",
     "text": [
      "        bairro   ano  mes  previsao_crimes\n",
      "0        Torre  2025    9        -0.118147\n",
      "1   Boa Viagem  2025    9         0.055953\n",
      "2  Imbiribeira  2025    9         0.041333\n",
      "3       Graças  2025    9         0.000642\n",
      "4  Tamarineira  2025    9         0.007476\n",
      "5  Santo Amaro  2025    9         0.027557\n",
      "6   Casa Forte  2025    9        -0.010340\n",
      "7   Espinheiro  2025    9         0.075889\n",
      "8     Afogados  2025    9         0.129407\n",
      "9         Pina  2025    9         0.142519\n"
     ]
    }
   ],
   "source": [
    "# Prever crimes para setembro de 2025\n",
    "previsoes = prever_e_grafico(model, df_full, 2025, 9)\n",
    "print(previsoes)\n"
   ]
  },
  {
   "cell_type": "markdown",
   "id": "50400ee6",
   "metadata": {},
   "source": [
    "*Insight - Áreas com Alto Risco de Tráfico de Drogas*\n",
    "\n",
    "Com base na análise de dados, observamos que os bairros *Pina*, *Afogados* e *Espinheiro* apresentam *alto risco* de tráfico de drogas. Esses bairros estão entre os que mais frequentemente registram atividades relacionadas a crimes, o que indica uma necessidade urgente de ações preventivas.\n",
    "\n",
    "*Recomendação:*\n",
    "É essencial aumentar a presença de *viaturas* e *policiais* nesses bairros, com o objetivo de:\n",
    "\n",
    "- *Inibir a prática de crimes* relacionados ao tráfico de drogas;\n",
    "- *Aumentar a segurança* para os moradores e frequentadores da região;\n",
    "- *Monitorar* atividades suspeitas de forma contínua e eficiente.\n",
    "\n",
    "A presença policial reforçada pode ajudar a **diminuir a criminalidade** e promover um ambiente mais seguro para a comunidade.\n"
   ]
  }
 ],
 "metadata": {
  "kernelspec": {
   "display_name": "Python 3",
   "language": "python",
   "name": "python3"
  },
  "language_info": {
   "codemirror_mode": {
    "name": "ipython",
    "version": 3
   },
   "file_extension": ".py",
   "mimetype": "text/x-python",
   "name": "python",
   "nbconvert_exporter": "python",
   "pygments_lexer": "ipython3",
   "version": "3.11.4"
  }
 },
 "nbformat": 4,
 "nbformat_minor": 5
}
