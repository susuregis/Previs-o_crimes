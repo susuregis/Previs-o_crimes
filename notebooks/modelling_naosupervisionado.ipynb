{
 "cells": [
  {
   "cell_type": "markdown",
   "id": "f4f5f920",
   "metadata": {},
   "source": [
    "Esse notbook tem o intuito de treinar os dados de forma nao supervisionada, criando custering para identificar padroes em bairros do crime de trafico de drogas e alertar quais estao crescendo ou nao."
   ]
  },
  {
   "cell_type": "markdown",
   "id": "a72fcbb6",
   "metadata": {},
   "source": [
    "Importando bibliotecas."
   ]
  },
  {
   "cell_type": "code",
   "execution_count": null,
   "id": "34f679f8",
   "metadata": {},
   "outputs": [],
   "source": [
    "import pandas as pd\n",
    "import numpy as np\n",
    "import matplotlib.pyplot as plt\n",
    "import seaborn as sns\n",
    "from sklearn.preprocessing import StandardScaler, OneHotEncoder\n",
    "from sklearn.compose import ColumnTransformer\n",
    "from sklearn.cluster import KMeans\n",
    "from sklearn.metrics import silhouette_score, calinski_harabasz_score, davies_bouldin_score"
   ]
  },
  {
   "cell_type": "markdown",
   "id": "1e2fdc88",
   "metadata": {},
   "source": [
    "Lendo o arquivo"
   ]
  },
  {
   "cell_type": "code",
   "execution_count": null,
   "id": "5736cd50",
   "metadata": {},
   "outputs": [],
   "source": [
    "df = pd.read_csv(\"C:/Users/55819/Downloads/Crime_prediction/data/processed/dados_processados.csv\")\n",
    "df.head(10)"
   ]
  },
  {
   "cell_type": "code",
   "execution_count": null,
   "id": "c28e516e",
   "metadata": {},
   "outputs": [],
   "source": [
    "df_trafico = df[df['tipo_crime'].str.contains('tráfico', case=False, na=False)].copy()"
   ]
  },
  {
   "cell_type": "code",
   "execution_count": null,
   "id": "2c00f573",
   "metadata": {},
   "outputs": [],
   "source": [
    "df_trafico['tem_arma'] = np.where(df_trafico['arma_utilizada'].str.lower() != 'não informado', 1, 0)\n"
   ]
  },
  {
   "cell_type": "code",
   "execution_count": null,
   "id": "01ae711a",
   "metadata": {},
   "outputs": [],
   "source": [
    "df_bairros = df_trafico.groupby('bairro').agg({\n",
    "    'quantidade_suspeitos': 'mean',\n",
    "    'quantidade_vitimas': 'mean',\n",
    "    'tem_arma': 'mean',  # percentual de ocorrências com arma\n",
    "    'idade_suspeito': 'mean',\n",
    "    'hora': 'mean'       # horário médio das ocorrências\n",
    "}).reset_index()\n",
    "\n",
    "# Renomear colunas\n",
    "df_bairros.rename(columns={\n",
    "    'quantidade_suspeitos': 'media_suspeitos',\n",
    "    'quantidade_vitimas': 'media_vitimas',\n",
    "    'tem_arma': 'percentual_com_arma',\n",
    "    'idade_suspeito': 'media_idade_suspeitos',\n",
    "    'hora': 'media_hora'\n",
    "}, inplace=True)"
   ]
  },
  {
   "cell_type": "code",
   "execution_count": null,
   "id": "196a0584",
   "metadata": {},
   "outputs": [],
   "source": [
    "df_bairros.fillna(df_bairros.mean(numeric_only=True), inplace=True)\n",
    "\n",
    "scaler = StandardScaler()\n",
    "X = scaler.fit_transform(df_bairros.drop(columns='bairro'))"
   ]
  },
  {
   "cell_type": "code",
   "execution_count": null,
   "id": "713b83a0",
   "metadata": {},
   "outputs": [],
   "source": [
    "kmeans = KMeans(n_clusters=4, random_state=42)\n",
    "df_bairros['cluster'] = kmeans.fit_predict(X)\n",
    "\n",
    "\n",
    "silhouette = silhouette_score(X_scaled, df_bairros['cluster'])\n",
    "davies_bouldin = davies_bouldin_score(X_scaled, df_bairros['cluster'])\n",
    "calinski = calinski_harabasz_score(X_scaled, df_bairros['cluster'])\n",
    "\n",
    "print(f\"Silhouette Score: {silhouette:.3f}\")\n",
    "print(f\"Davies-Bouldin Index: {davies_bouldin:.3f}\")\n",
    "print(f\"Calinski-Harabasz Index: {calinski:.3f}\")"
   ]
  },
  {
   "cell_type": "code",
   "execution_count": null,
   "id": "8c69ad9a",
   "metadata": {},
   "outputs": [],
   "source": [
    "cluster_summary = df_bairros.groupby('cluster').mean(numeric_only=True).round(2)\n",
    "print(\"MÉDIAS DOS CLUSTERS:\")\n",
    "print(cluster_summary)"
   ]
  },
  {
   "cell_type": "code",
   "execution_count": null,
   "id": "304403bb",
   "metadata": {},
   "outputs": [],
   "source": [
    "print(\"\\nRESUMO AUTOMÁTICO DOS CLUSTERS:\\n\")\n",
    "\n",
    "for c in sorted(df_bairros['cluster'].unique()):\n",
    "    grupo = df_bairros[df_bairros['cluster'] == c]\n",
    "    qtd_bairros = grupo.shape[0]\n",
    "    media_suspeitos = grupo['media_suspeitos'].mean().round(2)\n",
    "    perc_arma = (grupo['percentual_com_arma'].mean() * 100).round(1)\n",
    "    hora_media = grupo['media_hora'].mean().round(1)\n",
    "    idade_media = grupo['media_idade_suspeitos'].mean().round(1)\n",
    "\n",
    "    # gerar “interpretação automática”\n",
    "    interpretacao = []\n",
    "    if perc_arma > 40:\n",
    "        interpretacao.append(\"tráfico armado\")\n",
    "    else:\n",
    "        interpretacao.append(\"tráfico sem arma\")\n",
    "\n",
    "    if media_suspeitos >= 2:\n",
    "        interpretacao.append(\"com vários suspeitos (organizado)\")\n",
    "    else:\n",
    "        interpretacao.append(\"isolado (poucos suspeitos)\")\n",
    "\n",
    "    if hora_media >= 18:\n",
    "        interpretacao.append(\"ocorrendo mais à noite\")\n",
    "    elif hora_media <= 6:\n",
    "        interpretacao.append(\"ocorrendo de madrugada\")\n",
    "    else:\n",
    "        interpretacao.append(\"ocorrendo durante o dia\")\n",
    "\n",
    "    print(f\"Cluster {c} ({qtd_bairros} bairros):\")\n",
    "    print(f\"Média de suspeitos: {media_suspeitos}\")\n",
    "    print(f\"{perc_arma}% dos casos com arma\")\n",
    "    print(f\"Idade média dos suspeitos: {idade_media} anos\")\n",
    "    print(f\"Horário médio das ocorrências: {hora_media}h\")\n",
    "    print(f\"Perfil: {', '.join(interpretacao)}\")\n",
    "    print(f\"Bairros: {', '.join(grupo['bairro'].to_list())}\")\n",
    "    print(\"-\" * 80)"
   ]
  },
  {
   "cell_type": "code",
   "execution_count": null,
   "id": "6c614b67",
   "metadata": {},
   "outputs": [],
   "source": [
    "\n",
    "from sklearn.decomposition import PCA\n",
    "import matplotlib.pyplot as plt\n",
    "import seaborn as sns\n",
    "\n",
    "# Pegar apenas as features numéricas padronizadas\n",
    "from sklearn.preprocessing import StandardScaler\n",
    "\n",
    "features = ['media_suspeitos', 'media_vitimas', 'percentual_com_arma', 'media_idade_suspeitos', 'media_hora']\n",
    "X = df_bairros[features]\n",
    "X_scaled = StandardScaler().fit_transform(X)\n",
    "\n",
    "# Reduzir para 2 dimensões\n",
    "pca = PCA(n_components=2)\n",
    "pca_result = pca.fit_transform(X_scaled)\n",
    "\n",
    "# Adicionar resultados ao dataframe\n",
    "df_bairros['PCA1'] = pca_result[:, 0]\n",
    "df_bairros['PCA2'] = pca_result[:, 1]\n",
    "\n",
    "# Plotar os clusters agrupados\n",
    "plt.figure(figsize=(9,7))\n",
    "sns.scatterplot(\n",
    "    data=df_bairros,\n",
    "    x='PCA1',\n",
    "    y='PCA2',\n",
    "    hue='cluster',\n",
    "    palette='viridis',\n",
    "    s=200,\n",
    "    alpha=0.8\n",
    ")\n",
    "for i, row in df_bairros.iterrows():\n",
    "    plt.text(row['PCA1'] + 0.05, row['PCA2'] + 0.05, row['bairro'], fontsize=9)\n",
    "\n",
    "plt.title('Agrupamento de Bairros por Perfil de Tráfico (PCA)')\n",
    "plt.xlabel('Componente Principal 1')\n",
    "plt.ylabel('Componente Principal 2')\n",
    "plt.legend(title='Cluster')\n",
    "plt.show()\n"
   ]
  }
 ],
 "metadata": {
  "kernelspec": {
   "display_name": "Python 3",
   "language": "python",
   "name": "python3"
  },
  "language_info": {
   "codemirror_mode": {
    "name": "ipython",
    "version": 3
   },
   "file_extension": ".py",
   "mimetype": "text/x-python",
   "name": "python",
   "nbconvert_exporter": "python",
   "pygments_lexer": "ipython3",
   "version": "3.11.4"
  }
 },
 "nbformat": 4,
 "nbformat_minor": 5
}
